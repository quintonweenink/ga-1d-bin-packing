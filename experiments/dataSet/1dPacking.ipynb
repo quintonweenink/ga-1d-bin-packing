{
 "cells": [
  {
   "cell_type": "code",
   "execution_count": 157,
   "metadata": {
    "collapsed": true
   },
   "outputs": [],
   "source": [
    "import numpy as np\n",
    "\n",
    "problemFile = \"mlpy/geneticAlgorithm/bin1data/N1C1W1_A.BPP\""
   ]
  },
  {
   "cell_type": "code",
   "execution_count": 158,
   "metadata": {},
   "outputs": [],
   "source": [
    "problemSet = []\n",
    "\n",
    "with open(problemFile, \"r\") as file:\n",
    "    for line in file:\n",
    "        problemSet.append(int(line.strip('\\n')))"
   ]
  },
  {
   "cell_type": "code",
   "execution_count": 159,
   "metadata": {},
   "outputs": [
    {
     "data": {
      "text/plain": [
       "(50, 100)"
      ]
     },
     "execution_count": 159,
     "metadata": {},
     "output_type": "execute_result"
    }
   ],
   "source": [
    "numberOfItems = problemSet.pop(0)\n",
    "binCapacity = problemSet.pop(0)\n",
    "\n",
    "numberOfItems, binCapacity"
   ]
  },
  {
   "cell_type": "code",
   "execution_count": 160,
   "metadata": {
    "collapsed": false
   },
   "outputs": [
    {
     "data": {
      "text/plain": [
       "array([99, 99, 96, 96, 92, 92, 91, 88, 87, 86, 85, 76, 74, 72, 69, 67, 67,\n       62, 61, 56, 52, 51, 49, 46, 44, 42, 40, 40, 33, 33, 30, 30, 29, 28,\n       28, 27, 25, 24, 23, 22, 21, 20, 17, 14, 13, 11, 10,  7,  7,  3])"
      ]
     },
     "execution_count": 160,
     "metadata": {},
     "output_type": "execute_result"
    }
   ],
   "source": [
    "problemSet = np.array(problemSet)\n",
    "\n",
    "assert numberOfItems == problemSet.size\n",
    "\n",
    "problemSet"
   ]
  },
  {
   "cell_type": "code",
   "execution_count": 167,
   "metadata": {},
   "outputs": [
    {
     "data": {
      "text/plain": [
       "array([24, 14, 23, 25,  9,  4, 22, 36, 34, 27, 10, 33, 35, 43,  2,  3, 20,\n       31, 26, 18, 37, 19, 13, 11,  1, 38, 39, 32, 46,  5, 12, 16, 41, 42,\n       28, 30, 48, 44, 29, 47,  6,  8, 45,  0, 40,  7, 49, 21, 15, 17])"
      ]
     },
     "execution_count": 167,
     "metadata": {},
     "output_type": "execute_result"
    }
   ],
   "source": [
    "chromosome = np.arange(problemSet.size)\n",
    "np.random.shuffle(chromosome)\n",
    "\n",
    "chromosome"
   ]
  },
  {
   "cell_type": "code",
   "execution_count": 168,
   "metadata": {},
   "outputs": [
    {
     "data": {
      "text/plain": [
       "array([14, 44, 69, 67, 92, 33, 21, 11, 20, 92, 85, 46, 30, 49, 99,  7, 30,\n        3, 56, 51, 67,  7, 91, 96, 99, 96, 61, 86, 28, 23, 27, 62, 40, 76,\n       87, 74, 88, 52, 42, 40, 13, 29, 28, 72, 24, 17, 33, 22, 25, 10])"
      ]
     },
     "execution_count": 168,
     "metadata": {},
     "output_type": "execute_result"
    }
   ],
   "source": [
    "mappedChromosome = np.zeros(numberOfItems, dtype=int)\n",
    "np.add.at(mappedChromosome, chromosome, problemSet)\n",
    "\n",
    "mappedChromosome"
   ]
  },
  {
   "cell_type": "code",
   "execution_count": 169,
   "metadata": {
    "collapsed": true
   },
   "outputs": [
    {
     "data": {
      "text/plain": [
       "25"
      ]
     },
     "execution_count": 169,
     "metadata": {},
     "output_type": "execute_result"
    }
   ],
   "source": [
    "# TODO: This is not complete\n",
    "result = np.cumsum(mappedChromosome)\n",
    "binsRequired = 0\n",
    "while True:\n",
    "    if np.max(result) > binCapacity:\n",
    "        result = result - binCapacity\n",
    "    else:\n",
    "        binsRequired += 1\n",
    "        break\n",
    "    binsRequired += 1\n",
    "    \n",
    "\n",
    "binsRequired"
   ]
  },
  {
   "cell_type": "code",
   "execution_count": 112,
   "metadata": {},
   "outputs": [],
   "source": []
  },
  {
   "cell_type": "code",
   "execution_count": null,
   "metadata": {},
   "outputs": [],
   "source": []
  }
 ],
 "metadata": {
  "kernelspec": {
   "display_name": "Python 2",
   "language": "python",
   "name": "python2"
  },
  "language_info": {
   "codemirror_mode": {
    "name": "ipython",
    "version": 2
   },
   "file_extension": ".py",
   "mimetype": "text/x-python",
   "name": "python",
   "nbconvert_exporter": "python",
   "pygments_lexer": "ipython2",
   "version": "2.7.6"
  }
 },
 "nbformat": 4,
 "nbformat_minor": 0
}
